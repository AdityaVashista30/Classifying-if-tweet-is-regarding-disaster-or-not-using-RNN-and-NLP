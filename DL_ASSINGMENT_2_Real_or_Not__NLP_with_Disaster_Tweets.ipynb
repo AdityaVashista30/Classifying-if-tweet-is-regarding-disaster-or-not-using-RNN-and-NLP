{
  "nbformat": 4,
  "nbformat_minor": 0,
  "metadata": {
    "colab": {
      "name": "DL ASSINGMENT 2: Real or Not? NLP with Disaster Tweets",
      "provenance": []
    },
    "kernelspec": {
      "name": "python3",
      "display_name": "Python 3"
    },
    "accelerator": "TPU"
  },
  "cells": [
    {
      "cell_type": "markdown",
      "metadata": {
        "id": "rIMYN3nBYNSz"
      },
      "source": [
        "# IMPORTING LIBRARIES"
      ]
    },
    {
      "cell_type": "code",
      "metadata": {
        "id": "-J21Mtw6XidD"
      },
      "source": [
        "import pandas as pd\n",
        "import numpy as np\n",
        "import re\n",
        "from tensorflow.keras.preprocessing.text import Tokenizer\n",
        "from tensorflow.keras.preprocessing.sequence import pad_sequences\n",
        "from tensorflow.keras.models import Sequential\n",
        "from tensorflow.keras.layers import Embedding,LSTM,Dense,SpatialDropout1D\n",
        "from tensorflow.keras.optimizers import Adam\n"
      ],
      "execution_count": 1,
      "outputs": []
    },
    {
      "cell_type": "markdown",
      "metadata": {
        "id": "3kaNICpWZRM_"
      },
      "source": [
        "# uploading datasets\n"
      ]
    },
    {
      "cell_type": "code",
      "metadata": {
        "id": "3eCJycZvY3Ex"
      },
      "source": [
        "train=pd.read_csv(\"/content/drive/MyDrive/dpAssingment/assingment 2/train.csv\")\n",
        "test=pd.read_csv(\"/content/drive/MyDrive/dpAssingment/assingment 2/test.csv\")\n"
      ],
      "execution_count": 2,
      "outputs": []
    },
    {
      "cell_type": "code",
      "metadata": {
        "colab": {
          "base_uri": "https://localhost:8080/"
        },
        "id": "1bGAoO1-ZOM_",
        "outputId": "ae7835f1-43f0-4e1c-fefa-b9b491c5131c"
      },
      "source": [
        "print(train.size,train.shape)\n",
        "print(test.size,test.shape)\n",
        "\n",
        "print(train.head(10))\n",
        "\n",
        "print(len(train[train['target']==1]))\n",
        "print(len(train[train['target']==0]))\n"
      ],
      "execution_count": 3,
      "outputs": [
        {
          "output_type": "stream",
          "text": [
            "38065 (7613, 5)\n",
            "13052 (3263, 4)\n",
            "   id keyword  ...                                               text target\n",
            "0   1     NaN  ...  Our Deeds are the Reason of this #earthquake M...      1\n",
            "1   4     NaN  ...             Forest fire near La Ronge Sask. Canada      1\n",
            "2   5     NaN  ...  All residents asked to 'shelter in place' are ...      1\n",
            "3   6     NaN  ...  13,000 people receive #wildfires evacuation or...      1\n",
            "4   7     NaN  ...  Just got sent this photo from Ruby #Alaska as ...      1\n",
            "5   8     NaN  ...  #RockyFire Update => California Hwy. 20 closed...      1\n",
            "6  10     NaN  ...  #flood #disaster Heavy rain causes flash flood...      1\n",
            "7  13     NaN  ...  I'm on top of the hill and I can see a fire in...      1\n",
            "8  14     NaN  ...  There's an emergency evacuation happening now ...      1\n",
            "9  15     NaN  ...  I'm afraid that the tornado is coming to our a...      1\n",
            "\n",
            "[10 rows x 5 columns]\n",
            "3271\n",
            "4342\n"
          ],
          "name": "stdout"
        }
      ]
    },
    {
      "cell_type": "markdown",
      "metadata": {
        "id": "dU-JRUuGZiL6"
      },
      "source": [
        "# PRE PROCESSING OF DATA"
      ]
    },
    {
      "cell_type": "code",
      "metadata": {
        "id": "XmVBQ-1WZcRS"
      },
      "source": [
        "def removeURL(text):\n",
        "    url = re.compile(r'https?://\\S+|www\\.\\S+')\n",
        "    return url.sub(r'',text)\n"
      ],
      "execution_count": 5,
      "outputs": []
    },
    {
      "cell_type": "code",
      "metadata": {
        "id": "X3vlRiWwZtlw"
      },
      "source": [
        "def removeTags(text):\n",
        "    html=re.compile(r'<.*?>')\n",
        "    return html.sub(r'',text)"
      ],
      "execution_count": 6,
      "outputs": []
    },
    {
      "cell_type": "code",
      "metadata": {
        "id": "ct2Wvj7kZzag"
      },
      "source": [
        "def onlyWords(text):\n",
        "    text = re.sub('[^a-zA-Z]', ' ', text)\n",
        "    # Single character removal\n",
        "    text = re.sub(r\"\\s+[a-zA-Z]\\s+\", ' ', text)\n",
        "    # Removing multiple spaces\n",
        "    text = re.sub(r'\\s+', ' ', text)\n",
        "    return text"
      ],
      "execution_count": 7,
      "outputs": []
    },
    {
      "cell_type": "code",
      "metadata": {
        "id": "D9wbgwxBZ2fK"
      },
      "source": [
        "def removeEmoji(text):\n",
        "    emoji_pattern = re.compile(\"[\"\n",
        "                           u\"\\U0001F600-\\U0001F64F\"  # emoticons\n",
        "                           u\"\\U0001F300-\\U0001F5FF\"  # symbols & pictographs\n",
        "                           u\"\\U0001F680-\\U0001F6FF\"  # transport & map symbols\n",
        "                           u\"\\U0001F1E0-\\U0001F1FF\"  # flags (iOS)\n",
        "                           u\"\\U00002702-\\U000027B0\"\n",
        "                           u\"\\U000024C2-\\U0001F251\"\n",
        "                           \"]+\", flags=re.UNICODE)\n",
        "    return emoji_pattern.sub(r'', text)"
      ],
      "execution_count": 8,
      "outputs": []
    },
    {
      "cell_type": "code",
      "metadata": {
        "id": "QjApXksdZ6Ju"
      },
      "source": [
        "def fullAbb(text):\n",
        "    abbreviations = {\n",
        "    \"$\" : \" dollar \",\n",
        "    \"€\" : \" euro \",\n",
        "    \"4ao\" : \"for adults only\",\n",
        "    \"a.m\" : \"before midday\",\n",
        "    \"a3\" : \"anytime anywhere anyplace\",\n",
        "    \"aamof\" : \"as a matter of fact\",\n",
        "    \"acct\" : \"account\",\n",
        "    \"adih\" : \"another day in hell\",\n",
        "    \"afaic\" : \"as far as i am concerned\",\n",
        "    \"afaict\" : \"as far as i can tell\",\n",
        "    \"afaik\" : \"as far as i know\",\n",
        "    \"afair\" : \"as far as i remember\",\n",
        "    \"afk\" : \"away from keyboard\",\n",
        "    \"app\" : \"application\",\n",
        "    \"approx\" : \"approximately\",\n",
        "    \"apps\" : \"applications\",\n",
        "    \"asap\" : \"as soon as possible\",\n",
        "    \"asl\" : \"age, sex, location\",\n",
        "    \"atk\" : \"at the keyboard\",\n",
        "    \"ave.\" : \"avenue\",\n",
        "    \"aymm\" : \"are you my mother\",\n",
        "    \"ayor\" : \"at your own risk\", \n",
        "    \"b&b\" : \"bed and breakfast\",\n",
        "    \"b+b\" : \"bed and breakfast\",\n",
        "    \"b.c\" : \"before christ\",\n",
        "    \"b2b\" : \"business to business\",\n",
        "    \"b2c\" : \"business to customer\",\n",
        "    \"b4\" : \"before\",\n",
        "    \"b4n\" : \"bye for now\",\n",
        "    \"b@u\" : \"back at you\",\n",
        "    \"bae\" : \"before anyone else\",\n",
        "    \"bak\" : \"back at keyboard\",\n",
        "    \"bbbg\" : \"bye bye be good\",\n",
        "    \"bbc\" : \"british broadcasting corporation\",\n",
        "    \"bbias\" : \"be back in a second\",\n",
        "    \"bbl\" : \"be back later\",\n",
        "    \"bbs\" : \"be back soon\",\n",
        "    \"be4\" : \"before\",\n",
        "    \"bfn\" : \"bye for now\",\n",
        "    \"blvd\" : \"boulevard\",\n",
        "    \"bout\" : \"about\",\n",
        "    \"brb\" : \"be right back\",\n",
        "    \"bros\" : \"brothers\",\n",
        "    \"brt\" : \"be right there\",\n",
        "    \"bsaaw\" : \"big smile and a wink\",\n",
        "    \"btw\" : \"by the way\",\n",
        "    \"bwl\" : \"bursting with laughter\",\n",
        "    \"c/o\" : \"care of\",\n",
        "    \"cet\" : \"central european time\",\n",
        "    \"cf\" : \"compare\",\n",
        "    \"cia\" : \"central intelligence agency\",\n",
        "    \"csl\" : \"can not stop laughing\",\n",
        "    \"cu\" : \"see you\",\n",
        "    \"cul8r\" : \"see you later\",\n",
        "    \"cv\" : \"curriculum vitae\",\n",
        "    \"cwot\" : \"complete waste of time\",\n",
        "    \"cya\" : \"see you\",\n",
        "    \"cyt\" : \"see you tomorrow\",\n",
        "    \"dae\" : \"does anyone else\",\n",
        "    \"dbmib\" : \"do not bother me i am busy\",\n",
        "    \"diy\" : \"do it yourself\",\n",
        "    \"dm\" : \"direct message\",\n",
        "    \"dwh\" : \"during work hours\",\n",
        "    \"e123\" : \"easy as one two three\",\n",
        "    \"eet\" : \"eastern european time\",\n",
        "    \"eg\" : \"example\",\n",
        "    \"embm\" : \"early morning business meeting\",\n",
        "    \"encl\" : \"enclosed\",\n",
        "    \"encl.\" : \"enclosed\",\n",
        "    \"etc\" : \"and so on\",\n",
        "    \"faq\" : \"frequently asked questions\",\n",
        "    \"fawc\" : \"for anyone who cares\",\n",
        "    \"fb\" : \"facebook\",\n",
        "    \"fc\" : \"fingers crossed\",\n",
        "    \"fig\" : \"figure\",\n",
        "    \"fimh\" : \"forever in my heart\", \n",
        "    \"ft.\" : \"feet\",\n",
        "    \"ft\" : \"featuring\",\n",
        "    \"ftl\" : \"for the loss\",\n",
        "    \"ftw\" : \"for the win\",\n",
        "    \"fwiw\" : \"for what it is worth\",\n",
        "    \"fyi\" : \"for your information\",\n",
        "    \"g9\" : \"genius\",\n",
        "    \"gahoy\" : \"get a hold of yourself\",\n",
        "    \"gal\" : \"get a life\",\n",
        "    \"gcse\" : \"general certificate of secondary education\",\n",
        "    \"gfn\" : \"gone for now\",\n",
        "    \"gg\" : \"good game\",\n",
        "    \"gl\" : \"good luck\",\n",
        "    \"glhf\" : \"good luck have fun\",\n",
        "    \"gmt\" : \"greenwich mean time\",\n",
        "    \"gmta\" : \"great minds think alike\",\n",
        "    \"gn\" : \"good night\",\n",
        "    \"g.o.a.t\" : \"greatest of all time\",\n",
        "    \"goat\" : \"greatest of all time\",\n",
        "    \"goi\" : \"get over it\",\n",
        "    \"gps\" : \"global positioning system\",\n",
        "    \"gr8\" : \"great\",\n",
        "    \"gratz\" : \"congratulations\",\n",
        "    \"gyal\" : \"girl\",\n",
        "    \"h&c\" : \"hot and cold\",\n",
        "    \"hp\" : \"horsepower\",\n",
        "    \"hr\" : \"hour\",\n",
        "    \"hrh\" : \"his royal highness\",\n",
        "    \"ht\" : \"height\",\n",
        "    \"ibrb\" : \"i will be right back\",\n",
        "    \"ic\" : \"i see\",\n",
        "    \"icq\" : \"i seek you\",\n",
        "    \"icymi\" : \"in case you missed it\",\n",
        "    \"idc\" : \"i do not care\",\n",
        "    \"idgadf\" : \"i do not give a damn fuck\",\n",
        "    \"idgaf\" : \"i do not give a fuck\",\n",
        "    \"idk\" : \"i do not know\",\n",
        "    \"ie\" : \"that is\",\n",
        "    \"i.e\" : \"that is\",\n",
        "    \"ifyp\" : \"i feel your pain\",\n",
        "    \"IG\" : \"instagram\",\n",
        "    \"iirc\" : \"if i remember correctly\",\n",
        "    \"ilu\" : \"i love you\",\n",
        "    \"ily\" : \"i love you\",\n",
        "    \"imho\" : \"in my humble opinion\",\n",
        "    \"imo\" : \"in my opinion\",\n",
        "    \"imu\" : \"i miss you\",\n",
        "    \"iow\" : \"in other words\",\n",
        "    \"irl\" : \"in real life\",\n",
        "    \"j4f\" : \"just for fun\",\n",
        "    \"jic\" : \"just in case\",\n",
        "    \"jk\" : \"just kidding\",\n",
        "    \"jsyk\" : \"just so you know\",\n",
        "    \"l8r\" : \"later\",\n",
        "    \"lb\" : \"pound\",\n",
        "    \"lbs\" : \"pounds\",\n",
        "    \"ldr\" : \"long distance relationship\",\n",
        "    \"lmao\" : \"laugh my ass off\",\n",
        "    \"lmfao\" : \"laugh my fucking ass off\",\n",
        "    \"lol\" : \"laughing out loud\",\n",
        "    \"ltd\" : \"limited\",\n",
        "    \"ltns\" : \"long time no see\",\n",
        "    \"m8\" : \"mate\",\n",
        "    \"mf\" : \"motherfucker\",\n",
        "    \"mfs\" : \"motherfuckers\",\n",
        "    \"mfw\" : \"my face when\",\n",
        "    \"mofo\" : \"motherfucker\",\n",
        "    \"mph\" : \"miles per hour\",\n",
        "    \"mr\" : \"mister\",\n",
        "    \"mrw\" : \"my reaction when\",\n",
        "    \"ms\" : \"miss\",\n",
        "    \"mte\" : \"my thoughts exactly\",\n",
        "    \"nagi\" : \"not a good idea\",\n",
        "    \"nbc\" : \"national broadcasting company\",\n",
        "    \"nbd\" : \"not big deal\",\n",
        "    \"nfs\" : \"not for sale\",\n",
        "    \"ngl\" : \"not going to lie\",\n",
        "    \"nhs\" : \"national health service\",\n",
        "    \"nrn\" : \"no reply necessary\",\n",
        "    \"nsfl\" : \"not safe for life\",\n",
        "    \"nsfw\" : \"not safe for work\",\n",
        "    \"nth\" : \"nice to have\",\n",
        "    \"nvr\" : \"never\",\n",
        "    \"nyc\" : \"new york city\",\n",
        "    \"oc\" : \"original content\",\n",
        "    \"og\" : \"original\",\n",
        "    \"ohp\" : \"overhead projector\",\n",
        "    \"oic\" : \"oh i see\",\n",
        "    \"omdb\" : \"over my dead body\",\n",
        "    \"omg\" : \"oh my god\",\n",
        "    \"omw\" : \"on my way\",\n",
        "    \"p.a\" : \"per annum\",\n",
        "    \"p.m\" : \"after midday\",\n",
        "    \"pm\" : \"prime minister\",\n",
        "    \"poc\" : \"people of color\",\n",
        "    \"pov\" : \"point of view\",\n",
        "    \"pp\" : \"pages\",\n",
        "    \"ppl\" : \"people\",\n",
        "    \"prw\" : \"parents are watching\",\n",
        "    \"ps\" : \"postscript\",\n",
        "    \"pt\" : \"point\",\n",
        "    \"ptb\" : \"please text back\",\n",
        "    \"pto\" : \"please turn over\",\n",
        "    \"qpsa\" : \"what happens\", #\"que pasa\",\n",
        "    \"ratchet\" : \"rude\",\n",
        "    \"rbtl\" : \"read between the lines\",\n",
        "    \"rlrt\" : \"real life retweet\", \n",
        "    \"rofl\" : \"rolling on the floor laughing\",\n",
        "    \"roflol\" : \"rolling on the floor laughing out loud\",\n",
        "    \"rotflmao\" : \"rolling on the floor laughing my ass off\",\n",
        "    \"rt\" : \"retweet\",\n",
        "    \"ruok\" : \"are you ok\",\n",
        "    \"sfw\" : \"safe for work\",\n",
        "    \"sk8\" : \"skate\",\n",
        "    \"smh\" : \"shake my head\",\n",
        "    \"sq\" : \"square\",\n",
        "    \"srsly\" : \"seriously\", \n",
        "    \"ssdd\" : \"same stuff different day\",\n",
        "    \"tbh\" : \"to be honest\",\n",
        "    \"tbs\" : \"tablespooful\",\n",
        "    \"tbsp\" : \"tablespooful\",\n",
        "    \"tfw\" : \"that feeling when\",\n",
        "    \"thks\" : \"thank you\",\n",
        "    \"tho\" : \"though\",\n",
        "    \"thx\" : \"thank you\",\n",
        "    \"tia\" : \"thanks in advance\",\n",
        "    \"til\" : \"today i learned\",\n",
        "    \"tl;dr\" : \"too long i did not read\",\n",
        "    \"tldr\" : \"too long i did not read\",\n",
        "    \"tmb\" : \"tweet me back\",\n",
        "    \"tntl\" : \"trying not to laugh\",\n",
        "    \"ttyl\" : \"talk to you later\",\n",
        "    \"u\" : \"you\",\n",
        "    \"u2\" : \"you too\",\n",
        "    \"u4e\" : \"yours for ever\",\n",
        "    \"utc\" : \"coordinated universal time\",\n",
        "    \"w/\" : \"with\",\n",
        "    \"w/o\" : \"without\",\n",
        "    \"w8\" : \"wait\",\n",
        "    \"wassup\" : \"what is up\",\n",
        "    \"wb\" : \"welcome back\",\n",
        "    \"wtf\" : \"what the fuck\",\n",
        "    \"wtg\" : \"way to go\",\n",
        "    \"wtpa\" : \"where the party at\",\n",
        "    \"wuf\" : \"where are you from\",\n",
        "    \"wuzup\" : \"what is up\",\n",
        "    \"wywh\" : \"wish you were here\",\n",
        "    \"yd\" : \"yard\",\n",
        "    \"wyd\":\"what are you doing\",\n",
        "    \"doin\":\"doing\",\n",
        "    \"ygtr\" : \"you got that right\",\n",
        "    \"ynk\" : \"you never know\",\n",
        "    \"zzz\" : \"sleeping bored and tired\"}\n",
        "    l=text.split()\n",
        "    for i in range(len(l)):\n",
        "        if l[i].lower() in abbreviations.keys():\n",
        "            l[i]=abbreviations[l[i].lower()]\n",
        "    text=' '.join(l)\n",
        "    return text\n"
      ],
      "execution_count": 9,
      "outputs": []
    },
    {
      "cell_type": "code",
      "metadata": {
        "id": "_avx2kx9aF0L"
      },
      "source": [
        "def preProcessing(x):\n",
        "\n",
        "    for i in range(len(x)):\n",
        "        x[i]=removeURL(x[i])\n",
        "        x[i]=removeTags(x[i])\n",
        "        x[i]=removeEmoji(x[i])\n",
        "        x[i]=fullAbb(x[i])\n",
        "        x[i]=onlyWords(x[i])\n",
        "        x[i]=x[i].lower()\n",
        "    return x"
      ],
      "execution_count": 10,
      "outputs": []
    },
    {
      "cell_type": "code",
      "metadata": {
        "id": "9twy__wEaNhL"
      },
      "source": [
        "x,y=train.iloc[:,3].values,train.iloc[:,4]\n",
        "x_test=test.iloc[:,3].values\n",
        "x=preProcessing(x)\n",
        "x_test=preProcessing(x_test)"
      ],
      "execution_count": 11,
      "outputs": []
    },
    {
      "cell_type": "code",
      "metadata": {
        "colab": {
          "base_uri": "https://localhost:8080/"
        },
        "id": "EI6I98y-aYON",
        "outputId": "a0faa339-dd7c-4dac-a84f-ce2ad3da1608"
      },
      "source": [
        "x[:5]"
      ],
      "execution_count": 12,
      "outputs": [
        {
          "output_type": "execute_result",
          "data": {
            "text/plain": [
              "array(['our deeds are the reason of this earthquake may allah forgive us all',\n",
              "       'forest fire near la ronge sask canada',\n",
              "       'all residents asked to shelter in place are being notified by officers no other evacuation or shelter in place orders are expected',\n",
              "       ' people receive wildfires evacuation orders in california',\n",
              "       'just got sent this photo from ruby alaska as smoke from wildfires pours into school'],\n",
              "      dtype=object)"
            ]
          },
          "metadata": {
            "tags": []
          },
          "execution_count": 12
        }
      ]
    },
    {
      "cell_type": "code",
      "metadata": {
        "colab": {
          "base_uri": "https://localhost:8080/"
        },
        "id": "DYSp2VKoah1b",
        "outputId": "410b8012-1e71-47a3-dce5-72c9f81b45f5"
      },
      "source": [
        "x_test[:5]"
      ],
      "execution_count": 13,
      "outputs": [
        {
          "output_type": "execute_result",
          "data": {
            "text/plain": [
              "array(['just happened terrible car crash',\n",
              "       'heard about earthquake is different cities stay safe everyone ',\n",
              "       'there is forest fire at spot pond geese are fleeing across the street cannot save them all',\n",
              "       'apocalypse lighting spokane wildfires',\n",
              "       'typhoon soudelor kills in china and taiwan'], dtype=object)"
            ]
          },
          "metadata": {
            "tags": []
          },
          "execution_count": 13
        }
      ]
    },
    {
      "cell_type": "code",
      "metadata": {
        "colab": {
          "base_uri": "https://localhost:8080/"
        },
        "id": "nWqvinO6aknZ",
        "outputId": "038ab3ec-0029-44cb-9661-8608bb23076a"
      },
      "source": [
        "y"
      ],
      "execution_count": 14,
      "outputs": [
        {
          "output_type": "execute_result",
          "data": {
            "text/plain": [
              "0       1\n",
              "1       1\n",
              "2       1\n",
              "3       1\n",
              "4       1\n",
              "       ..\n",
              "7608    1\n",
              "7609    1\n",
              "7610    1\n",
              "7611    1\n",
              "7612    1\n",
              "Name: target, Length: 7613, dtype: int64"
            ]
          },
          "metadata": {
            "tags": []
          },
          "execution_count": 14
        }
      ]
    },
    {
      "cell_type": "code",
      "metadata": {
        "colab": {
          "base_uri": "https://localhost:8080/"
        },
        "id": "SxgIbdCoamKM",
        "outputId": "a2d233e2-21b8-4764-aa0b-e6f2d733b2ce"
      },
      "source": [
        "words,maxwords,maxlen=0,0,0\n",
        "u=[]\n",
        "for i in x:\n",
        "    maxwords=maxwords if maxwords>len(i) else len(i)\n",
        "    l=i.split()\n",
        "    maxlen=maxlen if maxlen>len(l) else len(l)\n",
        "    for j in l:\n",
        "        if j not in u:\n",
        "            u.append(j)\n",
        "            words+=1\n",
        "print(words)\n",
        "print(maxwords)\n",
        "print(maxlen)"
      ],
      "execution_count": 15,
      "outputs": [
        {
          "output_type": "stream",
          "text": [
            "16203\n",
            "156\n",
            "31\n"
          ],
          "name": "stdout"
        }
      ]
    },
    {
      "cell_type": "markdown",
      "metadata": {
        "id": "eP2iIOjlaxuc"
      },
      "source": [
        "# Tokenization"
      ]
    },
    {
      "cell_type": "code",
      "metadata": {
        "id": "0OwfR99PavVg"
      },
      "source": [
        "tokenizer=Tokenizer()\n",
        "tokenizer.fit_on_texts(x)\n",
        "x= tokenizer.texts_to_sequences(x)\n",
        "x_test= tokenizer.texts_to_sequences(x_test)"
      ],
      "execution_count": 16,
      "outputs": []
    },
    {
      "cell_type": "code",
      "metadata": {
        "colab": {
          "base_uri": "https://localhost:8080/"
        },
        "id": "lwo7p9l2a7ld",
        "outputId": "0069d497-aa34-4d1b-bc08-2b0a51f851b5"
      },
      "source": [
        "x[:5]"
      ],
      "execution_count": 17,
      "outputs": [
        {
          "output_type": "execute_result",
          "data": {
            "text/plain": [
              "[[108, 4396, 19, 1, 835, 4, 16, 245, 129, 1556, 4397, 82, 35],\n",
              " [183, 40, 215, 716, 6501, 6502, 1168],\n",
              " [35,\n",
              "  1686,\n",
              "  1441,\n",
              "  3,\n",
              "  1864,\n",
              "  2,\n",
              "  664,\n",
              "  19,\n",
              "  127,\n",
              "  6503,\n",
              "  15,\n",
              "  1687,\n",
              "  36,\n",
              "  373,\n",
              "  246,\n",
              "  57,\n",
              "  1864,\n",
              "  2,\n",
              "  664,\n",
              "  1346,\n",
              "  19,\n",
              "  1064],\n",
              " [54, 4398, 1442, 246, 1346, 2, 85],\n",
              " [29, 95, 1169, 16, 315, 17, 6504, 1688, 25, 263, 17, 1442, 6505, 66, 180]]"
            ]
          },
          "metadata": {
            "tags": []
          },
          "execution_count": 17
        }
      ]
    },
    {
      "cell_type": "code",
      "metadata": {
        "colab": {
          "base_uri": "https://localhost:8080/"
        },
        "id": "xKVyORFia-m5",
        "outputId": "a6e6ab9d-41a3-4002-ba47-4ba9c7f13f3b"
      },
      "source": [
        "x_test[:3]"
      ],
      "execution_count": 18,
      "outputs": [
        {
          "output_type": "execute_result",
          "data": {
            "text/plain": [
              "[[29, 881, 1884, 118, 88],\n",
              " [468, 51, 245, 7, 1153, 2546, 590, 1984, 210],\n",
              " [64, 7, 183, 40, 14, 793, 3410, 19, 4888, 837, 1, 717, 1355, 341, 93, 35]]"
            ]
          },
          "metadata": {
            "tags": []
          },
          "execution_count": 18
        }
      ]
    },
    {
      "cell_type": "code",
      "metadata": {
        "colab": {
          "base_uri": "https://localhost:8080/"
        },
        "id": "4icR9GwFbBDS",
        "outputId": "00940f6f-6aaf-4807-bd15-392ccc7487bc"
      },
      "source": [
        "vocab_size = len(tokenizer.word_index) + 1\n",
        "print(vocab_size)\n",
        "maxlen = 65"
      ],
      "execution_count": 19,
      "outputs": [
        {
          "output_type": "stream",
          "text": [
            "16204\n"
          ],
          "name": "stdout"
        }
      ]
    },
    {
      "cell_type": "code",
      "metadata": {
        "id": "hs988HyLbFir"
      },
      "source": [
        "x = pad_sequences(x, padding='post', maxlen=maxlen)\n",
        "x_test = pad_sequences(x_test, padding='post', maxlen=maxlen)"
      ],
      "execution_count": 20,
      "outputs": []
    },
    {
      "cell_type": "markdown",
      "metadata": {
        "id": "L5HHWcZobJ1X"
      },
      "source": [
        "# EMBEDDING"
      ]
    },
    {
      "cell_type": "code",
      "metadata": {
        "id": "LtoZETPubI-I"
      },
      "source": [
        "embeddings_dictionary = dict()\n",
        "glove_file1 = open('/content/drive/MyDrive/dpAssingment/assingment 2/glove.6B.300d.txt', encoding=\"utf8\")\n"
      ],
      "execution_count": 21,
      "outputs": []
    },
    {
      "cell_type": "code",
      "metadata": {
        "id": "wN_C9dndbYKl"
      },
      "source": [
        "for line in glove_file1:\n",
        "    records = line.split()\n",
        "    word = records[0]\n",
        "    vector_dimensions = np.asarray(records[1:], dtype='float32')\n",
        "    embeddings_dictionary [word] = vector_dimensions\n",
        "glove_file1.close()"
      ],
      "execution_count": 22,
      "outputs": []
    },
    {
      "cell_type": "code",
      "metadata": {
        "id": "A3_qvYLZbbxd"
      },
      "source": [
        "embedding_matrix = np.zeros((vocab_size, 300))\n",
        "for word, index in tokenizer.word_index.items():\n",
        "    embedding_vector = embeddings_dictionary.get(word)\n",
        "    if embedding_vector is not None:\n",
        "        embedding_matrix[index] = embedding_vector"
      ],
      "execution_count": 23,
      "outputs": []
    },
    {
      "cell_type": "code",
      "metadata": {
        "id": "V7Mcix_KbnSs"
      },
      "source": [
        "embedding_layer = Embedding(vocab_size, 300, weights=[embedding_matrix], input_length=maxlen , trainable=False)"
      ],
      "execution_count": 24,
      "outputs": []
    },
    {
      "cell_type": "markdown",
      "metadata": {
        "id": "RMbKKJXvbyxD"
      },
      "source": [
        "# MODEL 1"
      ]
    },
    {
      "cell_type": "code",
      "metadata": {
        "colab": {
          "base_uri": "https://localhost:8080/"
        },
        "id": "X5s3-DzWbvAq",
        "outputId": "e70c1da2-cabc-44b6-9e9a-0b3d2038df78"
      },
      "source": [
        "model1 = Sequential()\n",
        "model1.add(embedding_layer)\n",
        "model1.add(LSTM(128))\n",
        "model1.add(Dense(1, activation='sigmoid'))\n",
        "model1.compile(optimizer='adam', loss='binary_crossentropy', metrics=['accuracy'])\n",
        "model1.fit(x,y,epochs=15,batch_size=128)"
      ],
      "execution_count": 25,
      "outputs": [
        {
          "output_type": "stream",
          "text": [
            "Epoch 1/15\n",
            "60/60 [==============================] - 15s 251ms/step - loss: 0.5613 - accuracy: 0.7109\n",
            "Epoch 2/15\n",
            "60/60 [==============================] - 15s 250ms/step - loss: 0.4553 - accuracy: 0.8124\n",
            "Epoch 3/15\n",
            "60/60 [==============================] - 15s 249ms/step - loss: 0.4112 - accuracy: 0.8304\n",
            "Epoch 4/15\n",
            "60/60 [==============================] - 15s 250ms/step - loss: 0.3961 - accuracy: 0.8388\n",
            "Epoch 5/15\n",
            "60/60 [==============================] - 15s 248ms/step - loss: 0.3837 - accuracy: 0.8449\n",
            "Epoch 6/15\n",
            "60/60 [==============================] - 15s 248ms/step - loss: 0.3738 - accuracy: 0.8504\n",
            "Epoch 7/15\n",
            "60/60 [==============================] - 15s 249ms/step - loss: 0.3900 - accuracy: 0.8413\n",
            "Epoch 8/15\n",
            "60/60 [==============================] - 15s 249ms/step - loss: 0.3548 - accuracy: 0.8627\n",
            "Epoch 9/15\n",
            "60/60 [==============================] - 15s 247ms/step - loss: 0.3323 - accuracy: 0.8739\n",
            "Epoch 10/15\n",
            "60/60 [==============================] - 15s 252ms/step - loss: 0.3232 - accuracy: 0.8736\n",
            "Epoch 11/15\n",
            "60/60 [==============================] - 15s 249ms/step - loss: 0.2979 - accuracy: 0.8881\n",
            "Epoch 12/15\n",
            "60/60 [==============================] - 15s 249ms/step - loss: 0.2981 - accuracy: 0.8903\n",
            "Epoch 13/15\n",
            "60/60 [==============================] - 15s 250ms/step - loss: 0.2698 - accuracy: 0.9057\n",
            "Epoch 14/15\n",
            "60/60 [==============================] - 15s 253ms/step - loss: 0.2533 - accuracy: 0.9095\n",
            "Epoch 15/15\n",
            "60/60 [==============================] - 15s 250ms/step - loss: 0.2474 - accuracy: 0.9166\n"
          ],
          "name": "stdout"
        },
        {
          "output_type": "execute_result",
          "data": {
            "text/plain": [
              "<tensorflow.python.keras.callbacks.History at 0x7fbda56ae588>"
            ]
          },
          "metadata": {
            "tags": []
          },
          "execution_count": 25
        }
      ]
    },
    {
      "cell_type": "code",
      "metadata": {
        "id": "e0OQfM9Pb-XQ"
      },
      "source": [
        "model1.save('/content/drive/MyDrive/dpAssingment/assingment 2/model1.h5')"
      ],
      "execution_count": 27,
      "outputs": []
    },
    {
      "cell_type": "code",
      "metadata": {
        "colab": {
          "base_uri": "https://localhost:8080/"
        },
        "id": "UJmdbj6edBw4",
        "outputId": "e1694a94-9d74-439e-f9e8-5c9e17cf14a7"
      },
      "source": [
        "model1.summary()"
      ],
      "execution_count": 28,
      "outputs": [
        {
          "output_type": "stream",
          "text": [
            "Model: \"sequential\"\n",
            "_________________________________________________________________\n",
            "Layer (type)                 Output Shape              Param #   \n",
            "=================================================================\n",
            "embedding (Embedding)        (None, 65, 300)           4861200   \n",
            "_________________________________________________________________\n",
            "lstm (LSTM)                  (None, 128)               219648    \n",
            "_________________________________________________________________\n",
            "dense (Dense)                (None, 1)                 129       \n",
            "=================================================================\n",
            "Total params: 5,080,977\n",
            "Trainable params: 219,777\n",
            "Non-trainable params: 4,861,200\n",
            "_________________________________________________________________\n"
          ],
          "name": "stdout"
        }
      ]
    },
    {
      "cell_type": "code",
      "metadata": {
        "id": "k7ckNC5ldI_o"
      },
      "source": [
        "sub=pd.read_csv(\"/content/drive/MyDrive/dpAssingment/assingment 2/sample_submission.csv\")"
      ],
      "execution_count": 29,
      "outputs": []
    },
    {
      "cell_type": "code",
      "metadata": {
        "id": "8lHyl0ZDdYNz"
      },
      "source": [
        "ypred1=model1.predict(x_test)\n",
        "ypred1.resize(len(ypred1))\n",
        "ypred1=(ypred1>0.5)\n",
        "for i in range(len(ypred1)):\n",
        "    sub['target'][i]=int(ypred1[i])\n",
        "sub.to_csv('/content/drive/MyDrive/dpAssingment/assingment 2/submission1.csv',index=False)"
      ],
      "execution_count": 30,
      "outputs": []
    },
    {
      "cell_type": "code",
      "metadata": {
        "colab": {
          "base_uri": "https://localhost:8080/",
          "height": 343
        },
        "id": "rgz6Oi3Bdi47",
        "outputId": "2e38ed41-add8-4273-98b4-ca5bf652299e"
      },
      "source": [
        "sub.head(10)"
      ],
      "execution_count": 31,
      "outputs": [
        {
          "output_type": "execute_result",
          "data": {
            "text/html": [
              "<div>\n",
              "<style scoped>\n",
              "    .dataframe tbody tr th:only-of-type {\n",
              "        vertical-align: middle;\n",
              "    }\n",
              "\n",
              "    .dataframe tbody tr th {\n",
              "        vertical-align: top;\n",
              "    }\n",
              "\n",
              "    .dataframe thead th {\n",
              "        text-align: right;\n",
              "    }\n",
              "</style>\n",
              "<table border=\"1\" class=\"dataframe\">\n",
              "  <thead>\n",
              "    <tr style=\"text-align: right;\">\n",
              "      <th></th>\n",
              "      <th>id</th>\n",
              "      <th>target</th>\n",
              "    </tr>\n",
              "  </thead>\n",
              "  <tbody>\n",
              "    <tr>\n",
              "      <th>0</th>\n",
              "      <td>0</td>\n",
              "      <td>1</td>\n",
              "    </tr>\n",
              "    <tr>\n",
              "      <th>1</th>\n",
              "      <td>2</td>\n",
              "      <td>1</td>\n",
              "    </tr>\n",
              "    <tr>\n",
              "      <th>2</th>\n",
              "      <td>3</td>\n",
              "      <td>1</td>\n",
              "    </tr>\n",
              "    <tr>\n",
              "      <th>3</th>\n",
              "      <td>9</td>\n",
              "      <td>1</td>\n",
              "    </tr>\n",
              "    <tr>\n",
              "      <th>4</th>\n",
              "      <td>11</td>\n",
              "      <td>1</td>\n",
              "    </tr>\n",
              "    <tr>\n",
              "      <th>5</th>\n",
              "      <td>12</td>\n",
              "      <td>0</td>\n",
              "    </tr>\n",
              "    <tr>\n",
              "      <th>6</th>\n",
              "      <td>21</td>\n",
              "      <td>1</td>\n",
              "    </tr>\n",
              "    <tr>\n",
              "      <th>7</th>\n",
              "      <td>22</td>\n",
              "      <td>0</td>\n",
              "    </tr>\n",
              "    <tr>\n",
              "      <th>8</th>\n",
              "      <td>27</td>\n",
              "      <td>0</td>\n",
              "    </tr>\n",
              "    <tr>\n",
              "      <th>9</th>\n",
              "      <td>29</td>\n",
              "      <td>0</td>\n",
              "    </tr>\n",
              "  </tbody>\n",
              "</table>\n",
              "</div>"
            ],
            "text/plain": [
              "   id  target\n",
              "0   0       1\n",
              "1   2       1\n",
              "2   3       1\n",
              "3   9       1\n",
              "4  11       1\n",
              "5  12       0\n",
              "6  21       1\n",
              "7  22       0\n",
              "8  27       0\n",
              "9  29       0"
            ]
          },
          "metadata": {
            "tags": []
          },
          "execution_count": 31
        }
      ]
    },
    {
      "cell_type": "markdown",
      "metadata": {
        "id": "GxnYaq7TdusU"
      },
      "source": [
        "# MODEL 2"
      ]
    },
    {
      "cell_type": "code",
      "metadata": {
        "colab": {
          "base_uri": "https://localhost:8080/"
        },
        "id": "E9JbcY5fdn9h",
        "outputId": "d708f2a6-1833-459a-ca74-e482d255a57a"
      },
      "source": [
        "model2=Sequential()\n",
        "model2.add(embedding_layer)\n",
        "model2.add(SpatialDropout1D(0.2))\n",
        "model2.add(LSTM(128, dropout=0.2, recurrent_dropout=0.2))\n",
        "model2.add(Dense(units=10,activation=\"relu\"))\n",
        "model2.add(Dense(1, activation='sigmoid'))\n",
        "model2.compile(loss='binary_crossentropy',optimizer='adam',metrics=['accuracy'])\n",
        "model2.fit(x,y,epochs=15,batch_size=128)"
      ],
      "execution_count": 32,
      "outputs": [
        {
          "output_type": "stream",
          "text": [
            "Epoch 1/15\n",
            "60/60 [==============================] - 30s 493ms/step - loss: 0.5966 - accuracy: 0.6958\n",
            "Epoch 2/15\n",
            "60/60 [==============================] - 30s 495ms/step - loss: 0.4950 - accuracy: 0.7825\n",
            "Epoch 3/15\n",
            "60/60 [==============================] - 30s 493ms/step - loss: 0.4564 - accuracy: 0.8003\n",
            "Epoch 4/15\n",
            "60/60 [==============================] - 29s 492ms/step - loss: 0.4484 - accuracy: 0.8011\n",
            "Epoch 5/15\n",
            "60/60 [==============================] - 30s 504ms/step - loss: 0.4377 - accuracy: 0.8089\n",
            "Epoch 6/15\n",
            "60/60 [==============================] - 31s 517ms/step - loss: 0.4212 - accuracy: 0.8170\n",
            "Epoch 7/15\n",
            "60/60 [==============================] - 29s 486ms/step - loss: 0.4208 - accuracy: 0.8168\n",
            "Epoch 8/15\n",
            "60/60 [==============================] - 29s 488ms/step - loss: 0.4096 - accuracy: 0.8219\n",
            "Epoch 9/15\n",
            "60/60 [==============================] - 29s 487ms/step - loss: 0.3975 - accuracy: 0.8287\n",
            "Epoch 10/15\n",
            "60/60 [==============================] - 29s 491ms/step - loss: 0.3928 - accuracy: 0.8327\n",
            "Epoch 11/15\n",
            "60/60 [==============================] - 30s 492ms/step - loss: 0.3939 - accuracy: 0.8319\n",
            "Epoch 12/15\n",
            "60/60 [==============================] - 29s 490ms/step - loss: 0.3786 - accuracy: 0.8365\n",
            "Epoch 13/15\n",
            "60/60 [==============================] - 29s 491ms/step - loss: 0.3821 - accuracy: 0.8365\n",
            "Epoch 14/15\n",
            "60/60 [==============================] - 29s 484ms/step - loss: 0.3556 - accuracy: 0.8566\n",
            "Epoch 15/15\n",
            "60/60 [==============================] - 29s 489ms/step - loss: 0.3567 - accuracy: 0.8551\n"
          ],
          "name": "stdout"
        },
        {
          "output_type": "execute_result",
          "data": {
            "text/plain": [
              "<tensorflow.python.keras.callbacks.History at 0x7fbda20c7fd0>"
            ]
          },
          "metadata": {
            "tags": []
          },
          "execution_count": 32
        }
      ]
    },
    {
      "cell_type": "code",
      "metadata": {
        "id": "HxupVnNKd_SR"
      },
      "source": [
        "model2.save(\"/content/drive/MyDrive/dpAssingment/assingment 2/model2.h5\")"
      ],
      "execution_count": 33,
      "outputs": []
    },
    {
      "cell_type": "code",
      "metadata": {
        "colab": {
          "base_uri": "https://localhost:8080/"
        },
        "id": "nGwyv6O9ePtr",
        "outputId": "81c27b74-def1-48d3-f672-a2a03918d5aa"
      },
      "source": [
        "model2.summary()"
      ],
      "execution_count": 34,
      "outputs": [
        {
          "output_type": "stream",
          "text": [
            "Model: \"sequential_1\"\n",
            "_________________________________________________________________\n",
            "Layer (type)                 Output Shape              Param #   \n",
            "=================================================================\n",
            "embedding (Embedding)        (None, 65, 300)           4861200   \n",
            "_________________________________________________________________\n",
            "spatial_dropout1d (SpatialDr (None, 65, 300)           0         \n",
            "_________________________________________________________________\n",
            "lstm_1 (LSTM)                (None, 128)               219648    \n",
            "_________________________________________________________________\n",
            "dense_1 (Dense)              (None, 10)                1290      \n",
            "_________________________________________________________________\n",
            "dense_2 (Dense)              (None, 1)                 11        \n",
            "=================================================================\n",
            "Total params: 5,082,149\n",
            "Trainable params: 220,949\n",
            "Non-trainable params: 4,861,200\n",
            "_________________________________________________________________\n"
          ],
          "name": "stdout"
        }
      ]
    },
    {
      "cell_type": "code",
      "metadata": {
        "colab": {
          "base_uri": "https://localhost:8080/",
          "height": 343
        },
        "id": "5e3VbQkQeSdr",
        "outputId": "9056dfc8-49e7-4b7b-8216-dae79978272f"
      },
      "source": [
        "ypred2=model2.predict(x_test)\n",
        "ypred2.resize(len(ypred2))\n",
        "ypred2=(ypred2>0.5)\n",
        "for i in range(len(ypred2)):\n",
        "    sub['target'][i]=int(ypred2[i])\n",
        "sub.to_csv('/content/drive/MyDrive/dpAssingment/assingment 2/submission2.csv',index=False)\n",
        "sub.head(10)"
      ],
      "execution_count": 35,
      "outputs": [
        {
          "output_type": "execute_result",
          "data": {
            "text/html": [
              "<div>\n",
              "<style scoped>\n",
              "    .dataframe tbody tr th:only-of-type {\n",
              "        vertical-align: middle;\n",
              "    }\n",
              "\n",
              "    .dataframe tbody tr th {\n",
              "        vertical-align: top;\n",
              "    }\n",
              "\n",
              "    .dataframe thead th {\n",
              "        text-align: right;\n",
              "    }\n",
              "</style>\n",
              "<table border=\"1\" class=\"dataframe\">\n",
              "  <thead>\n",
              "    <tr style=\"text-align: right;\">\n",
              "      <th></th>\n",
              "      <th>id</th>\n",
              "      <th>target</th>\n",
              "    </tr>\n",
              "  </thead>\n",
              "  <tbody>\n",
              "    <tr>\n",
              "      <th>0</th>\n",
              "      <td>0</td>\n",
              "      <td>1</td>\n",
              "    </tr>\n",
              "    <tr>\n",
              "      <th>1</th>\n",
              "      <td>2</td>\n",
              "      <td>1</td>\n",
              "    </tr>\n",
              "    <tr>\n",
              "      <th>2</th>\n",
              "      <td>3</td>\n",
              "      <td>1</td>\n",
              "    </tr>\n",
              "    <tr>\n",
              "      <th>3</th>\n",
              "      <td>9</td>\n",
              "      <td>1</td>\n",
              "    </tr>\n",
              "    <tr>\n",
              "      <th>4</th>\n",
              "      <td>11</td>\n",
              "      <td>1</td>\n",
              "    </tr>\n",
              "    <tr>\n",
              "      <th>5</th>\n",
              "      <td>12</td>\n",
              "      <td>0</td>\n",
              "    </tr>\n",
              "    <tr>\n",
              "      <th>6</th>\n",
              "      <td>21</td>\n",
              "      <td>0</td>\n",
              "    </tr>\n",
              "    <tr>\n",
              "      <th>7</th>\n",
              "      <td>22</td>\n",
              "      <td>0</td>\n",
              "    </tr>\n",
              "    <tr>\n",
              "      <th>8</th>\n",
              "      <td>27</td>\n",
              "      <td>0</td>\n",
              "    </tr>\n",
              "    <tr>\n",
              "      <th>9</th>\n",
              "      <td>29</td>\n",
              "      <td>0</td>\n",
              "    </tr>\n",
              "  </tbody>\n",
              "</table>\n",
              "</div>"
            ],
            "text/plain": [
              "   id  target\n",
              "0   0       1\n",
              "1   2       1\n",
              "2   3       1\n",
              "3   9       1\n",
              "4  11       1\n",
              "5  12       0\n",
              "6  21       0\n",
              "7  22       0\n",
              "8  27       0\n",
              "9  29       0"
            ]
          },
          "metadata": {
            "tags": []
          },
          "execution_count": 35
        }
      ]
    },
    {
      "cell_type": "markdown",
      "metadata": {
        "id": "XV6-BbkWej-k"
      },
      "source": [
        "\n",
        "# MODEL 3"
      ]
    },
    {
      "cell_type": "code",
      "metadata": {
        "colab": {
          "base_uri": "https://localhost:8080/"
        },
        "id": "M8683yhHehck",
        "outputId": "d0883e6c-6053-41f8-b2f4-a58dee3d59a1"
      },
      "source": [
        "model3=Sequential()\n",
        "model3.add(embedding_layer)\n",
        "model3.add(SpatialDropout1D(0.2))\n",
        "model3.add(LSTM(128, dropout=0.2, recurrent_dropout=0.2,return_sequences=True))\n",
        "model3.add(LSTM(128, dropout=0.2, recurrent_dropout=0.2))\n",
        "model3.add(Dense(units=10,activation=\"relu\"))\n",
        "model3.add(Dense(1, activation='sigmoid'))\n",
        "model3.compile(loss='binary_crossentropy',optimizer='adam',metrics=['accuracy'])\n",
        "model3.fit(x,y,epochs=15,batch_size=128)\n"
      ],
      "execution_count": 36,
      "outputs": [
        {
          "output_type": "stream",
          "text": [
            "Epoch 1/15\n",
            "60/60 [==============================] - 55s 918ms/step - loss: 0.5930 - accuracy: 0.7008\n",
            "Epoch 2/15\n",
            "60/60 [==============================] - 52s 871ms/step - loss: 0.4852 - accuracy: 0.7873\n",
            "Epoch 3/15\n",
            "60/60 [==============================] - 52s 863ms/step - loss: 0.4500 - accuracy: 0.8044\n",
            "Epoch 4/15\n",
            "60/60 [==============================] - 52s 862ms/step - loss: 0.4418 - accuracy: 0.8069\n",
            "Epoch 5/15\n",
            "60/60 [==============================] - 52s 862ms/step - loss: 0.4347 - accuracy: 0.8108\n",
            "Epoch 6/15\n",
            "60/60 [==============================] - 52s 862ms/step - loss: 0.4224 - accuracy: 0.8145\n",
            "Epoch 7/15\n",
            "60/60 [==============================] - 52s 863ms/step - loss: 0.4399 - accuracy: 0.8097\n",
            "Epoch 8/15\n",
            "60/60 [==============================] - 52s 861ms/step - loss: 0.4154 - accuracy: 0.8200\n",
            "Epoch 9/15\n",
            "60/60 [==============================] - 52s 859ms/step - loss: 0.4065 - accuracy: 0.8250\n",
            "Epoch 10/15\n",
            "60/60 [==============================] - 52s 862ms/step - loss: 0.3997 - accuracy: 0.8292\n",
            "Epoch 11/15\n",
            "60/60 [==============================] - 53s 879ms/step - loss: 0.3949 - accuracy: 0.8336\n",
            "Epoch 12/15\n",
            "60/60 [==============================] - 52s 865ms/step - loss: 0.3769 - accuracy: 0.8404\n",
            "Epoch 13/15\n",
            "60/60 [==============================] - 55s 919ms/step - loss: 0.3735 - accuracy: 0.8416\n",
            "Epoch 14/15\n",
            "60/60 [==============================] - 52s 867ms/step - loss: 0.3711 - accuracy: 0.8437\n",
            "Epoch 15/15\n",
            "60/60 [==============================] - 51s 854ms/step - loss: 0.3491 - accuracy: 0.8575\n"
          ],
          "name": "stdout"
        },
        {
          "output_type": "execute_result",
          "data": {
            "text/plain": [
              "<tensorflow.python.keras.callbacks.History at 0x7fbda098eac8>"
            ]
          },
          "metadata": {
            "tags": []
          },
          "execution_count": 36
        }
      ]
    },
    {
      "cell_type": "code",
      "metadata": {
        "id": "NhpSjlI6e3KN"
      },
      "source": [
        "model3.save(\"/content/drive/MyDrive/dpAssingment/assingment 2/model3.h5\")"
      ],
      "execution_count": 37,
      "outputs": []
    },
    {
      "cell_type": "code",
      "metadata": {
        "colab": {
          "base_uri": "https://localhost:8080/"
        },
        "id": "UnTaX1ele9tP",
        "outputId": "f6319cbb-28e6-4ef0-95ae-ee4c092be824"
      },
      "source": [
        "model3.summary()"
      ],
      "execution_count": 38,
      "outputs": [
        {
          "output_type": "stream",
          "text": [
            "Model: \"sequential_2\"\n",
            "_________________________________________________________________\n",
            "Layer (type)                 Output Shape              Param #   \n",
            "=================================================================\n",
            "embedding (Embedding)        (None, 65, 300)           4861200   \n",
            "_________________________________________________________________\n",
            "spatial_dropout1d_1 (Spatial (None, 65, 300)           0         \n",
            "_________________________________________________________________\n",
            "lstm_2 (LSTM)                (None, 65, 128)           219648    \n",
            "_________________________________________________________________\n",
            "lstm_3 (LSTM)                (None, 128)               131584    \n",
            "_________________________________________________________________\n",
            "dense_3 (Dense)              (None, 10)                1290      \n",
            "_________________________________________________________________\n",
            "dense_4 (Dense)              (None, 1)                 11        \n",
            "=================================================================\n",
            "Total params: 5,213,733\n",
            "Trainable params: 352,533\n",
            "Non-trainable params: 4,861,200\n",
            "_________________________________________________________________\n"
          ],
          "name": "stdout"
        }
      ]
    },
    {
      "cell_type": "code",
      "metadata": {
        "colab": {
          "base_uri": "https://localhost:8080/",
          "height": 343
        },
        "id": "-fvtgWNPe_qJ",
        "outputId": "c6020b09-3cf2-4658-ab98-37a3a36fe9e2"
      },
      "source": [
        "ypred3=model3.predict(x_test)\n",
        "ypred3.resize(len(ypred3))\n",
        "ypred3=(ypred3>0.5)\n",
        "for i in range(len(ypred3)):\n",
        "    sub['target'][i]=int(ypred3[i])\n",
        "sub.to_csv('/content/drive/MyDrive/dpAssingment/assingment 2/submission3.csv',index=False)\n",
        "sub.head(10)"
      ],
      "execution_count": 39,
      "outputs": [
        {
          "output_type": "execute_result",
          "data": {
            "text/html": [
              "<div>\n",
              "<style scoped>\n",
              "    .dataframe tbody tr th:only-of-type {\n",
              "        vertical-align: middle;\n",
              "    }\n",
              "\n",
              "    .dataframe tbody tr th {\n",
              "        vertical-align: top;\n",
              "    }\n",
              "\n",
              "    .dataframe thead th {\n",
              "        text-align: right;\n",
              "    }\n",
              "</style>\n",
              "<table border=\"1\" class=\"dataframe\">\n",
              "  <thead>\n",
              "    <tr style=\"text-align: right;\">\n",
              "      <th></th>\n",
              "      <th>id</th>\n",
              "      <th>target</th>\n",
              "    </tr>\n",
              "  </thead>\n",
              "  <tbody>\n",
              "    <tr>\n",
              "      <th>0</th>\n",
              "      <td>0</td>\n",
              "      <td>1</td>\n",
              "    </tr>\n",
              "    <tr>\n",
              "      <th>1</th>\n",
              "      <td>2</td>\n",
              "      <td>1</td>\n",
              "    </tr>\n",
              "    <tr>\n",
              "      <th>2</th>\n",
              "      <td>3</td>\n",
              "      <td>1</td>\n",
              "    </tr>\n",
              "    <tr>\n",
              "      <th>3</th>\n",
              "      <td>9</td>\n",
              "      <td>0</td>\n",
              "    </tr>\n",
              "    <tr>\n",
              "      <th>4</th>\n",
              "      <td>11</td>\n",
              "      <td>1</td>\n",
              "    </tr>\n",
              "    <tr>\n",
              "      <th>5</th>\n",
              "      <td>12</td>\n",
              "      <td>0</td>\n",
              "    </tr>\n",
              "    <tr>\n",
              "      <th>6</th>\n",
              "      <td>21</td>\n",
              "      <td>0</td>\n",
              "    </tr>\n",
              "    <tr>\n",
              "      <th>7</th>\n",
              "      <td>22</td>\n",
              "      <td>0</td>\n",
              "    </tr>\n",
              "    <tr>\n",
              "      <th>8</th>\n",
              "      <td>27</td>\n",
              "      <td>0</td>\n",
              "    </tr>\n",
              "    <tr>\n",
              "      <th>9</th>\n",
              "      <td>29</td>\n",
              "      <td>0</td>\n",
              "    </tr>\n",
              "  </tbody>\n",
              "</table>\n",
              "</div>"
            ],
            "text/plain": [
              "   id  target\n",
              "0   0       1\n",
              "1   2       1\n",
              "2   3       1\n",
              "3   9       0\n",
              "4  11       1\n",
              "5  12       0\n",
              "6  21       0\n",
              "7  22       0\n",
              "8  27       0\n",
              "9  29       0"
            ]
          },
          "metadata": {
            "tags": []
          },
          "execution_count": 39
        }
      ]
    },
    {
      "cell_type": "markdown",
      "metadata": {
        "id": "__vAxQNWg1fJ"
      },
      "source": [
        "# ENSEMBLE APPROACH"
      ]
    },
    {
      "cell_type": "code",
      "metadata": {
        "colab": {
          "base_uri": "https://localhost:8080/",
          "height": 343
        },
        "id": "agoruMVXgF3s",
        "outputId": "be452938-02f2-461d-d262-416b10c8cc37"
      },
      "source": [
        "from statistics import mode \n",
        "for i in range(len(ypred1)):\n",
        "    sub['target'][i]=int(mode([ypred1[i],ypred2[i],ypred3[i]]))\n",
        "sub.to_csv('/content/drive/MyDrive/dpAssingment/assingment 2/submissionEnsemble.csv',index=False)\n",
        "sub.head(10)"
      ],
      "execution_count": 41,
      "outputs": [
        {
          "output_type": "execute_result",
          "data": {
            "text/html": [
              "<div>\n",
              "<style scoped>\n",
              "    .dataframe tbody tr th:only-of-type {\n",
              "        vertical-align: middle;\n",
              "    }\n",
              "\n",
              "    .dataframe tbody tr th {\n",
              "        vertical-align: top;\n",
              "    }\n",
              "\n",
              "    .dataframe thead th {\n",
              "        text-align: right;\n",
              "    }\n",
              "</style>\n",
              "<table border=\"1\" class=\"dataframe\">\n",
              "  <thead>\n",
              "    <tr style=\"text-align: right;\">\n",
              "      <th></th>\n",
              "      <th>id</th>\n",
              "      <th>target</th>\n",
              "    </tr>\n",
              "  </thead>\n",
              "  <tbody>\n",
              "    <tr>\n",
              "      <th>0</th>\n",
              "      <td>0</td>\n",
              "      <td>1</td>\n",
              "    </tr>\n",
              "    <tr>\n",
              "      <th>1</th>\n",
              "      <td>2</td>\n",
              "      <td>1</td>\n",
              "    </tr>\n",
              "    <tr>\n",
              "      <th>2</th>\n",
              "      <td>3</td>\n",
              "      <td>1</td>\n",
              "    </tr>\n",
              "    <tr>\n",
              "      <th>3</th>\n",
              "      <td>9</td>\n",
              "      <td>1</td>\n",
              "    </tr>\n",
              "    <tr>\n",
              "      <th>4</th>\n",
              "      <td>11</td>\n",
              "      <td>1</td>\n",
              "    </tr>\n",
              "    <tr>\n",
              "      <th>5</th>\n",
              "      <td>12</td>\n",
              "      <td>0</td>\n",
              "    </tr>\n",
              "    <tr>\n",
              "      <th>6</th>\n",
              "      <td>21</td>\n",
              "      <td>0</td>\n",
              "    </tr>\n",
              "    <tr>\n",
              "      <th>7</th>\n",
              "      <td>22</td>\n",
              "      <td>0</td>\n",
              "    </tr>\n",
              "    <tr>\n",
              "      <th>8</th>\n",
              "      <td>27</td>\n",
              "      <td>0</td>\n",
              "    </tr>\n",
              "    <tr>\n",
              "      <th>9</th>\n",
              "      <td>29</td>\n",
              "      <td>0</td>\n",
              "    </tr>\n",
              "  </tbody>\n",
              "</table>\n",
              "</div>"
            ],
            "text/plain": [
              "   id  target\n",
              "0   0       1\n",
              "1   2       1\n",
              "2   3       1\n",
              "3   9       1\n",
              "4  11       1\n",
              "5  12       0\n",
              "6  21       0\n",
              "7  22       0\n",
              "8  27       0\n",
              "9  29       0"
            ]
          },
          "metadata": {
            "tags": []
          },
          "execution_count": 41
        }
      ]
    },
    {
      "cell_type": "code",
      "metadata": {
        "id": "tIgG_L82jGDO"
      },
      "source": [
        ""
      ],
      "execution_count": null,
      "outputs": []
    }
  ]
}